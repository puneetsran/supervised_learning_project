{
 "cells": [
  {
   "cell_type": "markdown",
   "metadata": {},
   "source": [
    "# Supervised Learning Project"
   ]
  },
  {
   "cell_type": "code",
   "execution_count": 1,
   "metadata": {},
   "outputs": [],
   "source": [
    "import numpy as np\n",
    "import pandas as pd\n",
    "import matplotlib.pyplot as plt\n",
    "import seaborn as sns"
   ]
  },
  {
   "cell_type": "code",
   "execution_count": 2,
   "metadata": {},
   "outputs": [],
   "source": [
    "votes = pd.read_csv('data/votes.csv')\n",
    "results_12_16 = pd.read_csv('data/US_County_Level_Presidential_Results_12-16.csv')\n",
    "county = pd.read_csv('data/county_facts.csv')\n",
    "county_dict = pd.read_csv('data/county_facts_dictionary.csv')"
   ]
  },
  {
   "cell_type": "markdown",
   "metadata": {},
   "source": [
    "## Part 1: EDA"
   ]
  },
  {
   "cell_type": "code",
   "execution_count": 3,
   "metadata": {},
   "outputs": [
    {
     "data": {
      "text/plain": [
       "(3112, 82)"
      ]
     },
     "metadata": {},
     "output_type": "display_data"
    },
    {
     "data": {
      "text/plain": [
       "(3141, 21)"
      ]
     },
     "metadata": {},
     "output_type": "display_data"
    },
    {
     "data": {
      "text/plain": [
       "(3195, 54)"
      ]
     },
     "metadata": {},
     "output_type": "display_data"
    },
    {
     "data": {
      "text/plain": [
       "(51, 2)"
      ]
     },
     "metadata": {},
     "output_type": "display_data"
    }
   ],
   "source": [
    "display(votes.shape)\n",
    "display(results_12_16.shape)\n",
    "display(county.shape)\n",
    "display(county_dict.shape)"
   ]
  },
  {
   "cell_type": "code",
   "execution_count": 4,
   "metadata": {},
   "outputs": [
    {
     "data": {
      "text/html": [
       "<div>\n",
       "<style scoped>\n",
       "    .dataframe tbody tr th:only-of-type {\n",
       "        vertical-align: middle;\n",
       "    }\n",
       "\n",
       "    .dataframe tbody tr th {\n",
       "        vertical-align: top;\n",
       "    }\n",
       "\n",
       "    .dataframe thead th {\n",
       "        text-align: right;\n",
       "    }\n",
       "</style>\n",
       "<table border=\"1\" class=\"dataframe\">\n",
       "  <thead>\n",
       "    <tr style=\"text-align: right;\">\n",
       "      <th></th>\n",
       "      <th>Unnamed: 0</th>\n",
       "      <th>X</th>\n",
       "      <th>combined_fips</th>\n",
       "      <th>votes_dem_2016</th>\n",
       "      <th>votes_gop_2016</th>\n",
       "      <th>total_votes_2016</th>\n",
       "      <th>Clinton</th>\n",
       "      <th>Trump</th>\n",
       "      <th>diff_2016</th>\n",
       "      <th>per_point_diff_2016</th>\n",
       "      <th>...</th>\n",
       "      <th>AFN120207</th>\n",
       "      <th>BPS030214</th>\n",
       "      <th>LND110210</th>\n",
       "      <th>Density</th>\n",
       "      <th>Clinton_Obama</th>\n",
       "      <th>Trump_Romney</th>\n",
       "      <th>Trump_Prediction</th>\n",
       "      <th>Clinton_Prediction</th>\n",
       "      <th>Trump_Deviation</th>\n",
       "      <th>Clinton_Deviation</th>\n",
       "    </tr>\n",
       "  </thead>\n",
       "  <tbody>\n",
       "    <tr>\n",
       "      <th>0</th>\n",
       "      <td>30</td>\n",
       "      <td>29</td>\n",
       "      <td>1001</td>\n",
       "      <td>5908</td>\n",
       "      <td>18110</td>\n",
       "      <td>24661</td>\n",
       "      <td>0.239569</td>\n",
       "      <td>0.734358</td>\n",
       "      <td>12202</td>\n",
       "      <td>-0.494789</td>\n",
       "      <td>...</td>\n",
       "      <td>88157</td>\n",
       "      <td>131</td>\n",
       "      <td>594.44</td>\n",
       "      <td>91.8</td>\n",
       "      <td>-0.026189</td>\n",
       "      <td>0.008021</td>\n",
       "      <td>0.620859</td>\n",
       "      <td>0.340493</td>\n",
       "      <td>-0.113499</td>\n",
       "      <td>0.100924</td>\n",
       "    </tr>\n",
       "    <tr>\n",
       "      <th>1</th>\n",
       "      <td>31</td>\n",
       "      <td>30</td>\n",
       "      <td>1003</td>\n",
       "      <td>18409</td>\n",
       "      <td>72780</td>\n",
       "      <td>94090</td>\n",
       "      <td>0.195653</td>\n",
       "      <td>0.773515</td>\n",
       "      <td>54371</td>\n",
       "      <td>-0.577862</td>\n",
       "      <td>...</td>\n",
       "      <td>436955</td>\n",
       "      <td>1384</td>\n",
       "      <td>1589.78</td>\n",
       "      <td>114.6</td>\n",
       "      <td>-0.020013</td>\n",
       "      <td>-0.000383</td>\n",
       "      <td>0.586749</td>\n",
       "      <td>0.359502</td>\n",
       "      <td>-0.186766</td>\n",
       "      <td>0.163849</td>\n",
       "    </tr>\n",
       "  </tbody>\n",
       "</table>\n",
       "<p>2 rows × 82 columns</p>\n",
       "</div>"
      ],
      "text/plain": [
       "   Unnamed: 0   X  combined_fips  votes_dem_2016  votes_gop_2016  \\\n",
       "0          30  29           1001            5908           18110   \n",
       "1          31  30           1003           18409           72780   \n",
       "\n",
       "   total_votes_2016   Clinton     Trump  diff_2016  per_point_diff_2016  ...  \\\n",
       "0             24661  0.239569  0.734358      12202            -0.494789  ...   \n",
       "1             94090  0.195653  0.773515      54371            -0.577862  ...   \n",
       "\n",
       "  AFN120207 BPS030214  LND110210  Density  Clinton_Obama  Trump_Romney  \\\n",
       "0     88157       131     594.44     91.8      -0.026189      0.008021   \n",
       "1    436955      1384    1589.78    114.6      -0.020013     -0.000383   \n",
       "\n",
       "   Trump_Prediction  Clinton_Prediction  Trump_Deviation  Clinton_Deviation  \n",
       "0          0.620859            0.340493        -0.113499           0.100924  \n",
       "1          0.586749            0.359502        -0.186766           0.163849  \n",
       "\n",
       "[2 rows x 82 columns]"
      ]
     },
     "metadata": {},
     "output_type": "display_data"
    }
   ],
   "source": [
    "display(votes.head(2))"
   ]
  },
  {
   "cell_type": "code",
   "execution_count": 5,
   "metadata": {},
   "outputs": [],
   "source": [
    "votes = votes.drop('Unnamed: 0', axis=1)"
   ]
  },
  {
   "cell_type": "code",
   "execution_count": 6,
   "metadata": {},
   "outputs": [
    {
     "data": {
      "text/html": [
       "<div>\n",
       "<style scoped>\n",
       "    .dataframe tbody tr th:only-of-type {\n",
       "        vertical-align: middle;\n",
       "    }\n",
       "\n",
       "    .dataframe tbody tr th {\n",
       "        vertical-align: top;\n",
       "    }\n",
       "\n",
       "    .dataframe thead th {\n",
       "        text-align: right;\n",
       "    }\n",
       "</style>\n",
       "<table border=\"1\" class=\"dataframe\">\n",
       "  <thead>\n",
       "    <tr style=\"text-align: right;\">\n",
       "      <th></th>\n",
       "      <th>X</th>\n",
       "      <th>combined_fips</th>\n",
       "      <th>votes_dem_2016</th>\n",
       "      <th>votes_gop_2016</th>\n",
       "      <th>total_votes_2016</th>\n",
       "      <th>Clinton</th>\n",
       "      <th>Trump</th>\n",
       "      <th>diff_2016</th>\n",
       "      <th>per_point_diff_2016</th>\n",
       "      <th>state_abbr</th>\n",
       "      <th>...</th>\n",
       "      <th>AFN120207</th>\n",
       "      <th>BPS030214</th>\n",
       "      <th>LND110210</th>\n",
       "      <th>Density</th>\n",
       "      <th>Clinton_Obama</th>\n",
       "      <th>Trump_Romney</th>\n",
       "      <th>Trump_Prediction</th>\n",
       "      <th>Clinton_Prediction</th>\n",
       "      <th>Trump_Deviation</th>\n",
       "      <th>Clinton_Deviation</th>\n",
       "    </tr>\n",
       "  </thead>\n",
       "  <tbody>\n",
       "    <tr>\n",
       "      <th>0</th>\n",
       "      <td>29</td>\n",
       "      <td>1001</td>\n",
       "      <td>5908</td>\n",
       "      <td>18110</td>\n",
       "      <td>24661</td>\n",
       "      <td>0.239569</td>\n",
       "      <td>0.734358</td>\n",
       "      <td>12202</td>\n",
       "      <td>-0.494789</td>\n",
       "      <td>AL</td>\n",
       "      <td>...</td>\n",
       "      <td>88157</td>\n",
       "      <td>131</td>\n",
       "      <td>594.44</td>\n",
       "      <td>91.8</td>\n",
       "      <td>-0.026189</td>\n",
       "      <td>0.008021</td>\n",
       "      <td>0.620859</td>\n",
       "      <td>0.340493</td>\n",
       "      <td>-0.113499</td>\n",
       "      <td>0.100924</td>\n",
       "    </tr>\n",
       "    <tr>\n",
       "      <th>1</th>\n",
       "      <td>30</td>\n",
       "      <td>1003</td>\n",
       "      <td>18409</td>\n",
       "      <td>72780</td>\n",
       "      <td>94090</td>\n",
       "      <td>0.195653</td>\n",
       "      <td>0.773515</td>\n",
       "      <td>54371</td>\n",
       "      <td>-0.577862</td>\n",
       "      <td>AL</td>\n",
       "      <td>...</td>\n",
       "      <td>436955</td>\n",
       "      <td>1384</td>\n",
       "      <td>1589.78</td>\n",
       "      <td>114.6</td>\n",
       "      <td>-0.020013</td>\n",
       "      <td>-0.000383</td>\n",
       "      <td>0.586749</td>\n",
       "      <td>0.359502</td>\n",
       "      <td>-0.186766</td>\n",
       "      <td>0.163849</td>\n",
       "    </tr>\n",
       "  </tbody>\n",
       "</table>\n",
       "<p>2 rows × 81 columns</p>\n",
       "</div>"
      ],
      "text/plain": [
       "    X  combined_fips  votes_dem_2016  votes_gop_2016  total_votes_2016  \\\n",
       "0  29           1001            5908           18110             24661   \n",
       "1  30           1003           18409           72780             94090   \n",
       "\n",
       "    Clinton     Trump  diff_2016  per_point_diff_2016 state_abbr  ...  \\\n",
       "0  0.239569  0.734358      12202            -0.494789         AL  ...   \n",
       "1  0.195653  0.773515      54371            -0.577862         AL  ...   \n",
       "\n",
       "  AFN120207  BPS030214  LND110210  Density  Clinton_Obama  Trump_Romney  \\\n",
       "0     88157        131     594.44     91.8      -0.026189      0.008021   \n",
       "1    436955       1384    1589.78    114.6      -0.020013     -0.000383   \n",
       "\n",
       "   Trump_Prediction  Clinton_Prediction  Trump_Deviation  Clinton_Deviation  \n",
       "0          0.620859            0.340493        -0.113499           0.100924  \n",
       "1          0.586749            0.359502        -0.186766           0.163849  \n",
       "\n",
       "[2 rows x 81 columns]"
      ]
     },
     "execution_count": 6,
     "metadata": {},
     "output_type": "execute_result"
    }
   ],
   "source": [
    "votes.head(2)"
   ]
  },
  {
   "cell_type": "code",
   "execution_count": 7,
   "metadata": {},
   "outputs": [
    {
     "data": {
      "text/html": [
       "<div>\n",
       "<style scoped>\n",
       "    .dataframe tbody tr th:only-of-type {\n",
       "        vertical-align: middle;\n",
       "    }\n",
       "\n",
       "    .dataframe tbody tr th {\n",
       "        vertical-align: top;\n",
       "    }\n",
       "\n",
       "    .dataframe thead th {\n",
       "        text-align: right;\n",
       "    }\n",
       "</style>\n",
       "<table border=\"1\" class=\"dataframe\">\n",
       "  <thead>\n",
       "    <tr style=\"text-align: right;\">\n",
       "      <th></th>\n",
       "      <th>column_name</th>\n",
       "      <th>description</th>\n",
       "    </tr>\n",
       "  </thead>\n",
       "  <tbody>\n",
       "    <tr>\n",
       "      <th>0</th>\n",
       "      <td>PST045214</td>\n",
       "      <td>Population, 2014 estimate</td>\n",
       "    </tr>\n",
       "    <tr>\n",
       "      <th>1</th>\n",
       "      <td>PST040210</td>\n",
       "      <td>Population, 2010 (April 1) estimates base</td>\n",
       "    </tr>\n",
       "    <tr>\n",
       "      <th>2</th>\n",
       "      <td>PST120214</td>\n",
       "      <td>Population, percent change - April 1, 2010 to ...</td>\n",
       "    </tr>\n",
       "    <tr>\n",
       "      <th>3</th>\n",
       "      <td>POP010210</td>\n",
       "      <td>Population, 2010</td>\n",
       "    </tr>\n",
       "    <tr>\n",
       "      <th>4</th>\n",
       "      <td>AGE135214</td>\n",
       "      <td>Persons under 5 years, percent, 2014</td>\n",
       "    </tr>\n",
       "  </tbody>\n",
       "</table>\n",
       "</div>"
      ],
      "text/plain": [
       "  column_name                                        description\n",
       "0   PST045214                          Population, 2014 estimate\n",
       "1   PST040210          Population, 2010 (April 1) estimates base\n",
       "2   PST120214  Population, percent change - April 1, 2010 to ...\n",
       "3   POP010210                                   Population, 2010\n",
       "4   AGE135214               Persons under 5 years, percent, 2014"
      ]
     },
     "execution_count": 7,
     "metadata": {},
     "output_type": "execute_result"
    }
   ],
   "source": [
    "county_dict.head()"
   ]
  },
  {
   "cell_type": "code",
   "execution_count": 8,
   "metadata": {},
   "outputs": [
    {
     "data": {
      "text/plain": [
       "(51, 2)"
      ]
     },
     "execution_count": 8,
     "metadata": {},
     "output_type": "execute_result"
    }
   ],
   "source": [
    "county_dict.shape"
   ]
  },
  {
   "cell_type": "code",
   "execution_count": 9,
   "metadata": {},
   "outputs": [
    {
     "data": {
      "text/html": [
       "<div>\n",
       "<style scoped>\n",
       "    .dataframe tbody tr th:only-of-type {\n",
       "        vertical-align: middle;\n",
       "    }\n",
       "\n",
       "    .dataframe tbody tr th {\n",
       "        vertical-align: top;\n",
       "    }\n",
       "\n",
       "    .dataframe thead th {\n",
       "        text-align: right;\n",
       "    }\n",
       "</style>\n",
       "<table border=\"1\" class=\"dataframe\">\n",
       "  <thead>\n",
       "    <tr style=\"text-align: right;\">\n",
       "      <th></th>\n",
       "      <th>fips</th>\n",
       "      <th>area_name</th>\n",
       "      <th>state_abbreviation</th>\n",
       "      <th>PST045214</th>\n",
       "      <th>PST040210</th>\n",
       "      <th>PST120214</th>\n",
       "      <th>POP010210</th>\n",
       "      <th>AGE135214</th>\n",
       "      <th>AGE295214</th>\n",
       "      <th>AGE775214</th>\n",
       "      <th>...</th>\n",
       "      <th>SBO415207</th>\n",
       "      <th>SBO015207</th>\n",
       "      <th>MAN450207</th>\n",
       "      <th>WTN220207</th>\n",
       "      <th>RTN130207</th>\n",
       "      <th>RTN131207</th>\n",
       "      <th>AFN120207</th>\n",
       "      <th>BPS030214</th>\n",
       "      <th>LND110210</th>\n",
       "      <th>POP060210</th>\n",
       "    </tr>\n",
       "  </thead>\n",
       "  <tbody>\n",
       "    <tr>\n",
       "      <th>0</th>\n",
       "      <td>0</td>\n",
       "      <td>United States</td>\n",
       "      <td>NaN</td>\n",
       "      <td>318857056</td>\n",
       "      <td>308758105</td>\n",
       "      <td>3.3</td>\n",
       "      <td>308745538</td>\n",
       "      <td>6.2</td>\n",
       "      <td>23.1</td>\n",
       "      <td>14.5</td>\n",
       "      <td>...</td>\n",
       "      <td>8.3</td>\n",
       "      <td>28.8</td>\n",
       "      <td>5319456312</td>\n",
       "      <td>4174286516</td>\n",
       "      <td>3917663456</td>\n",
       "      <td>12990</td>\n",
       "      <td>613795732</td>\n",
       "      <td>1046363</td>\n",
       "      <td>3531905.43</td>\n",
       "      <td>87.4</td>\n",
       "    </tr>\n",
       "    <tr>\n",
       "      <th>1</th>\n",
       "      <td>1000</td>\n",
       "      <td>Alabama</td>\n",
       "      <td>NaN</td>\n",
       "      <td>4849377</td>\n",
       "      <td>4780127</td>\n",
       "      <td>1.4</td>\n",
       "      <td>4779736</td>\n",
       "      <td>6.1</td>\n",
       "      <td>22.8</td>\n",
       "      <td>15.3</td>\n",
       "      <td>...</td>\n",
       "      <td>1.2</td>\n",
       "      <td>28.1</td>\n",
       "      <td>112858843</td>\n",
       "      <td>52252752</td>\n",
       "      <td>57344851</td>\n",
       "      <td>12364</td>\n",
       "      <td>6426342</td>\n",
       "      <td>13369</td>\n",
       "      <td>50645.33</td>\n",
       "      <td>94.4</td>\n",
       "    </tr>\n",
       "    <tr>\n",
       "      <th>2</th>\n",
       "      <td>1001</td>\n",
       "      <td>Autauga County</td>\n",
       "      <td>AL</td>\n",
       "      <td>55395</td>\n",
       "      <td>54571</td>\n",
       "      <td>1.5</td>\n",
       "      <td>54571</td>\n",
       "      <td>6.0</td>\n",
       "      <td>25.2</td>\n",
       "      <td>13.8</td>\n",
       "      <td>...</td>\n",
       "      <td>0.7</td>\n",
       "      <td>31.7</td>\n",
       "      <td>0</td>\n",
       "      <td>0</td>\n",
       "      <td>598175</td>\n",
       "      <td>12003</td>\n",
       "      <td>88157</td>\n",
       "      <td>131</td>\n",
       "      <td>594.44</td>\n",
       "      <td>91.8</td>\n",
       "    </tr>\n",
       "    <tr>\n",
       "      <th>3</th>\n",
       "      <td>1003</td>\n",
       "      <td>Baldwin County</td>\n",
       "      <td>AL</td>\n",
       "      <td>200111</td>\n",
       "      <td>182265</td>\n",
       "      <td>9.8</td>\n",
       "      <td>182265</td>\n",
       "      <td>5.6</td>\n",
       "      <td>22.2</td>\n",
       "      <td>18.7</td>\n",
       "      <td>...</td>\n",
       "      <td>1.3</td>\n",
       "      <td>27.3</td>\n",
       "      <td>1410273</td>\n",
       "      <td>0</td>\n",
       "      <td>2966489</td>\n",
       "      <td>17166</td>\n",
       "      <td>436955</td>\n",
       "      <td>1384</td>\n",
       "      <td>1589.78</td>\n",
       "      <td>114.6</td>\n",
       "    </tr>\n",
       "    <tr>\n",
       "      <th>4</th>\n",
       "      <td>1005</td>\n",
       "      <td>Barbour County</td>\n",
       "      <td>AL</td>\n",
       "      <td>26887</td>\n",
       "      <td>27457</td>\n",
       "      <td>-2.1</td>\n",
       "      <td>27457</td>\n",
       "      <td>5.7</td>\n",
       "      <td>21.2</td>\n",
       "      <td>16.5</td>\n",
       "      <td>...</td>\n",
       "      <td>0.0</td>\n",
       "      <td>27.0</td>\n",
       "      <td>0</td>\n",
       "      <td>0</td>\n",
       "      <td>188337</td>\n",
       "      <td>6334</td>\n",
       "      <td>0</td>\n",
       "      <td>8</td>\n",
       "      <td>884.88</td>\n",
       "      <td>31.0</td>\n",
       "    </tr>\n",
       "  </tbody>\n",
       "</table>\n",
       "<p>5 rows × 54 columns</p>\n",
       "</div>"
      ],
      "text/plain": [
       "   fips       area_name state_abbreviation  PST045214  PST040210  PST120214  \\\n",
       "0     0   United States                NaN  318857056  308758105        3.3   \n",
       "1  1000         Alabama                NaN    4849377    4780127        1.4   \n",
       "2  1001  Autauga County                 AL      55395      54571        1.5   \n",
       "3  1003  Baldwin County                 AL     200111     182265        9.8   \n",
       "4  1005  Barbour County                 AL      26887      27457       -2.1   \n",
       "\n",
       "   POP010210  AGE135214  AGE295214  AGE775214  ...  SBO415207  SBO015207  \\\n",
       "0  308745538        6.2       23.1       14.5  ...        8.3       28.8   \n",
       "1    4779736        6.1       22.8       15.3  ...        1.2       28.1   \n",
       "2      54571        6.0       25.2       13.8  ...        0.7       31.7   \n",
       "3     182265        5.6       22.2       18.7  ...        1.3       27.3   \n",
       "4      27457        5.7       21.2       16.5  ...        0.0       27.0   \n",
       "\n",
       "    MAN450207   WTN220207   RTN130207  RTN131207  AFN120207  BPS030214  \\\n",
       "0  5319456312  4174286516  3917663456      12990  613795732    1046363   \n",
       "1   112858843    52252752    57344851      12364    6426342      13369   \n",
       "2           0           0      598175      12003      88157        131   \n",
       "3     1410273           0     2966489      17166     436955       1384   \n",
       "4           0           0      188337       6334          0          8   \n",
       "\n",
       "    LND110210  POP060210  \n",
       "0  3531905.43       87.4  \n",
       "1    50645.33       94.4  \n",
       "2      594.44       91.8  \n",
       "3     1589.78      114.6  \n",
       "4      884.88       31.0  \n",
       "\n",
       "[5 rows x 54 columns]"
      ]
     },
     "metadata": {},
     "output_type": "display_data"
    },
    {
     "data": {
      "text/plain": [
       "(3195, 54)"
      ]
     },
     "metadata": {},
     "output_type": "display_data"
    }
   ],
   "source": [
    "display(county.head())\n",
    "display(county.shape)"
   ]
  },
  {
   "cell_type": "markdown",
   "metadata": {},
   "source": [
    "### Rename columns in votes dataset"
   ]
  },
  {
   "cell_type": "code",
   "execution_count": 10,
   "metadata": {},
   "outputs": [],
   "source": [
    "def clean_description(description):\n",
    "    # Remove numbers\n",
    "    # cleaned = ''.join([c for c in description if not c.isdigit()])\n",
    "    # Remove special characters\n",
    "    cleaned = ''.join([c for c in description if c.isalnum() or c.isspace()])\n",
    "    # Remove the years 2014, 2009, and 2013\n",
    "    cleaned = cleaned.replace('2014', '').replace('2009', '').replace('2013', '').replace('2007', '').replace('2010', '')\n",
    "    # Replace spaces with underscores\n",
    "    cleaned = cleaned.replace(' ', '_')\n",
    "    # Replace \"percent\" with \"pct\"\n",
    "    cleaned = cleaned.replace('percent', 'pct')\n",
    "    # Replace \"language\" with \"lang\"\n",
    "    cleaned = cleaned.replace('language', 'lang')\n",
    "    # Convert to lowercase\n",
    "    cleaned = cleaned.lower()\n",
    "    # Replace \"population\" with \"pop\"\n",
    "    cleaned = cleaned.replace('population', 'pop')\n",
    "    # Remove the word \"persons\"\n",
    "    # cleaned = cleaned.replace('persons', '')\n",
    "    # Remove consecutive underscores\n",
    "    cleaned = cleaned.replace('__', '_')\n",
    "    # Remove underscores at the very end\n",
    "    cleaned = cleaned.rstrip('_')\n",
    "    return cleaned\n",
    "\n",
    "county_dict['description_clean'] = np.vectorize(clean_description)(county_dict['description'])"
   ]
  },
  {
   "cell_type": "code",
   "execution_count": 11,
   "metadata": {},
   "outputs": [
    {
     "data": {
      "text/plain": [
       "array(['pop_estimate', 'pop_april_1_estimates_base',\n",
       "       'pop_pct_change_april_1_to_july_1', 'pop',\n",
       "       'persons_under_5_years_pct', 'persons_under_18_years_pct',\n",
       "       'persons_65_years_and_over_pct', 'female_persons_pct',\n",
       "       'white_alone_pct', 'black_or_african_american_alone_pct',\n",
       "       'american_indian_and_alaska_native_alone_pct', 'asian_alone_pct',\n",
       "       'native_hawaiian_and_other_pacific_islander_alone_pct',\n",
       "       'two_or_more_races_pct', 'hispanic_or_latino_pct',\n",
       "       'white_alone_not_hispanic_or_latino_pct',\n",
       "       'living_in_same_house_1_year_over_pct', 'foreign_born_persons_pct',\n",
       "       'language_other_than_english_spoken_at_home_pct_age_5',\n",
       "       'high_school_graduate_or_higher_pct_of_persons_age_25',\n",
       "       'bachelors_degree_or_higher_pct_of_persons_age_25', 'veterans',\n",
       "       'mean_travel_time_to_work_minutes_workers_age_16', 'housing_units',\n",
       "       'homeownership_rate', 'housing_units_in_multiunit_structures_pct',\n",
       "       'median_value_of_owneroccupied_housing_units', 'households',\n",
       "       'persons_per_household',\n",
       "       'per_capita_money_income_in_past_12_months_dollars',\n",
       "       'median_household_income', 'persons_below_poverty_level_pct',\n",
       "       'private_nonfarm_establishments', 'private_nonfarm_employment',\n",
       "       'private_nonfarm_employment_pct_change_2012',\n",
       "       'nonemployer_establishments', 'total_number_of_firms',\n",
       "       'blackowned_firms_pct',\n",
       "       'american_indian_and_alaska_nativeowned_firms_pct',\n",
       "       'asianowned_firms_pct',\n",
       "       'native_hawaiian_and_other_pacific_islanderowned_firms_pct',\n",
       "       'hispanicowned_firms_pct', 'womenowned_firms_pct',\n",
       "       'manufacturers_shipments_1000', 'merchant_wholesaler_sales_1000',\n",
       "       'retail_sales_1000', 'retail_sales_per_capita',\n",
       "       'accommodation_and_food_services_sales_1000', 'building_permits',\n",
       "       'land_area_in_square_miles', 'pop_per_square_mile'], dtype=object)"
      ]
     },
     "execution_count": 11,
     "metadata": {},
     "output_type": "execute_result"
    }
   ],
   "source": [
    "county_dict['description_clean'].unique()"
   ]
  },
  {
   "cell_type": "code",
   "execution_count": 12,
   "metadata": {},
   "outputs": [],
   "source": [
    "# Create a dictionary for faster column mapping\n",
    "county_dict = county_dict.set_index('column_name').to_dict()['description_clean']\n",
    "\n",
    "# Automate the column renaming process\n",
    "votes.rename(columns=county_dict, inplace=True)"
   ]
  },
  {
   "cell_type": "code",
   "execution_count": 13,
   "metadata": {},
   "outputs": [
    {
     "data": {
      "text/plain": [
       "Index(['X', 'combined_fips', 'votes_dem_2016', 'votes_gop_2016',\n",
       "       'total_votes_2016', 'Clinton', 'Trump', 'diff_2016',\n",
       "       'per_point_diff_2016', 'state_abbr', 'county_name', 'FIPS',\n",
       "       'total_votes_2012', 'votes_dem_2012', 'votes_gop_2012', 'county_fips',\n",
       "       'state_fips', 'Obama', 'Romney', 'diff_2012', 'per_point_diff_2012',\n",
       "       'fips', 'area_name', 'state_abbreviation', 'population2014',\n",
       "       'population2010', 'population_change', 'pop',\n",
       "       'persons_under_5_years_pct', 'persons_under_18_years_pct', 'age65plus',\n",
       "       'female_persons_pct', 'White', 'Black',\n",
       "       'american_indian_and_alaska_native_alone_pct', 'asian_alone_pct',\n",
       "       'native_hawaiian_and_other_pacific_islander_alone_pct',\n",
       "       'two_or_more_races_pct', 'Hispanic',\n",
       "       'white_alone_not_hispanic_or_latino_pct',\n",
       "       'living_in_same_house_1_year_over_pct', 'foreign_born_persons_pct',\n",
       "       'NonEnglish', 'Edu_highschool', 'Edu_batchelors', 'veterans',\n",
       "       'mean_travel_time_to_work_minutes_workers_age_16', 'housing_units',\n",
       "       'homeownership_rate', 'housing_units_in_multiunit_structures_pct',\n",
       "       'median_value_of_owneroccupied_housing_units', 'households',\n",
       "       'persons_per_household', 'Income', 'median_household_income', 'Poverty',\n",
       "       'private_nonfarm_establishments', 'private_nonfarm_employment',\n",
       "       'private_nonfarm_employment_pct_change_2012',\n",
       "       'nonemployer_establishments', 'total_number_of_firms',\n",
       "       'blackowned_firms_pct',\n",
       "       'american_indian_and_alaska_nativeowned_firms_pct',\n",
       "       'asianowned_firms_pct',\n",
       "       'native_hawaiian_and_other_pacific_islanderowned_firms_pct',\n",
       "       'hispanicowned_firms_pct', 'womenowned_firms_pct',\n",
       "       'manufacturers_shipments_1000', 'merchant_wholesaler_sales_1000',\n",
       "       'retail_sales_1000', 'retail_sales_per_capita',\n",
       "       'accommodation_and_food_services_sales_1000', 'building_permits',\n",
       "       'land_area_in_square_miles', 'Density', 'Clinton_Obama', 'Trump_Romney',\n",
       "       'Trump_Prediction', 'Clinton_Prediction', 'Trump_Deviation',\n",
       "       'Clinton_Deviation'],\n",
       "      dtype='object')"
      ]
     },
     "execution_count": 13,
     "metadata": {},
     "output_type": "execute_result"
    }
   ],
   "source": [
    "votes.columns"
   ]
  },
  {
   "cell_type": "code",
   "execution_count": 14,
   "metadata": {},
   "outputs": [
    {
     "data": {
      "text/plain": [
       "(3112, 81)"
      ]
     },
     "execution_count": 14,
     "metadata": {},
     "output_type": "execute_result"
    }
   ],
   "source": [
    "votes.shape"
   ]
  },
  {
   "cell_type": "code",
   "execution_count": null,
   "metadata": {},
   "outputs": [],
   "source": []
  }
 ],
 "metadata": {
  "kernelspec": {
   "display_name": "Python 3",
   "language": "python",
   "name": "python3"
  },
  "language_info": {
   "codemirror_mode": {
    "name": "ipython",
    "version": 3
   },
   "file_extension": ".py",
   "mimetype": "text/x-python",
   "name": "python",
   "nbconvert_exporter": "python",
   "pygments_lexer": "ipython3",
   "version": "3.8.5"
  }
 },
 "nbformat": 4,
 "nbformat_minor": 4
}
